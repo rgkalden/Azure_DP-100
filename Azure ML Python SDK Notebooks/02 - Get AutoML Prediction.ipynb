{
  "cells": [
    {
      "cell_type": "markdown",
      "metadata": {
        "nteract": {
          "transient": {
            "deleting": false
          }
        }
      },
      "source": [
        "# Get Diabetes Prediction from Automated ML Endpoint\n",
        "\n",
        "Modify the code in the cell below to use the ***ENDPOINT*** and ***PRIMARY_KEY*** for your **auto-predict-diabetes** service. Then run the cell to submit new patient data and retrieve the predicted classifications. "
      ]
    },
    {
      "cell_type": "code",
      "execution_count": 1,
      "metadata": {
        "gather": {
          "logged": 1604605071290
        }
      },
      "outputs": [
        {
          "name": "stdout",
          "output_type": "stream",
          "text": [
            "<Response [502]>\n"
          ]
        }
      ],
      "source": [
        "endpoint = 'ENDPOINT' #Replace with your endpoint\n",
        "key = 'PRIMARY_KEY' #Replace with your key\n",
        "\n",
        "import json\n",
        "import requests\n",
        "\n",
        "#Features for a patient\n",
        "x = [{\"PatientID\": 1,\n",
        "      \"Pregnancies\": 5,\n",
        "      \"PlasmaGlucose\": 181.0,\n",
        "      \"DiastolicBloodPressure\": 90.6,\n",
        "      \"TricepsThickness\": 34.0,\n",
        "      \"SerumInsulin\": 23.0,\n",
        "      \"BMI\": 43.51,\n",
        "      \"DiabetesPedigree\": 1.21,\n",
        "      \"Age\": 21.0}]\n",
        "\n",
        "#Create a \"data\" JSON object\n",
        "input_json = json.dumps({\"data\": x})\n",
        "\n",
        "#Set the content type and authentication for the request\n",
        "headers = {\"Content-Type\":\"application/json\",\n",
        "           \"Authorization\":\"Bearer \" + key}\n",
        "\n",
        "#Send the request\n",
        "response = requests.post(endpoint, input_json, headers=headers)\n",
        "\n",
        "#If we got a valid response, display the predictions\n",
        "if response.status_code == 200:\n",
        "    y = json.loads(response.json())\n",
        "    #Get the first prediction in the results\n",
        "    print(\"Prediction:\", y[\"result\"][0])\n",
        "    if y[\"result\"][0] == 1:\n",
        "        print('Diabetic')\n",
        "    else:\n",
        "        print(\"Not Diabetic\")\n",
        "else:\n",
        "    print(response)"
      ]
    }
  ],
  "metadata": {
    "interpreter": {
      "hash": "e0679b8d713c70730f1507de8189a78c48c46b2c858e2faf98d8f424ca3d7b96"
    },
    "kernel_info": {
      "name": "python3-azureml"
    },
    "kernelspec": {
      "display_name": "Python 3.7.6 64-bit ('base': conda)",
      "name": "python3"
    },
    "language_info": {
      "codemirror_mode": {
        "name": "ipython",
        "version": 3
      },
      "file_extension": ".py",
      "mimetype": "text/x-python",
      "name": "python",
      "nbconvert_exporter": "python",
      "pygments_lexer": "ipython3",
      "version": "3.7.6"
    },
    "nteract": {
      "version": "nteract-front-end@1.0.0"
    }
  },
  "nbformat": 4,
  "nbformat_minor": 2
}
